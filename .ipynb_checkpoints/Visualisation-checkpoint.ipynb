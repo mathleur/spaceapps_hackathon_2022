{
 "cells": [
  {
   "cell_type": "markdown",
   "metadata": {},
   "source": [
    "# Wind speed"
   ]
  },
  {
   "cell_type": "code",
   "execution_count": 9,
   "metadata": {},
   "outputs": [
    {
     "name": "stdout",
     "output_type": "stream",
     "text": [
      "time wind\n",
      "[[    2022        1       78]\n",
      " [    2022        1      170]\n",
      " [    2022        1      262]\n",
      " ...\n",
      " [    2022        1 86399754]\n",
      " [    2022        1 86399846]\n",
      " [    2022        1 86399938]]\n",
      "[      78      170      262 ... 86399754 86399846 86399938]\n"
     ]
    }
   ],
   "source": [
    "import cdflib\n",
    "cdf_pycdf = cdflib.CDF(\"wi_h2_mfi_20220101_v04.cdf\")\n",
    "BF1 = cdf_pycdf.varget(\"BF1\", startrec = 0, endrec = 925803 - 1)\n",
    "BGSE = cdf_pycdf.varget(\"BGSE\", startrec = 0, endrec = 925803 - 1)\n",
    "BGSM = cdf_pycdf.varget(\"BGSM\", startrec = 0, endrec = 925803 - 1)\n",
    "time = cdf_pycdf.varget(\"Time_PB5\", startrec = 0, endrec = 925803 - 1)\n",
    "# print(BF1)\n",
    "# print(BGSE)\n",
    "# print(BGSM[1])\n",
    "print(\"time wind\")\n",
    "print(time)\n",
    "\n",
    "print(time[:, -1])"
   ]
  },
  {
   "cell_type": "code",
   "execution_count": 10,
   "metadata": {},
   "outputs": [
    {
     "data": {
      "text/plain": [
       "Text(0, 0.5, 'BF1')"
      ]
     },
     "execution_count": 10,
     "metadata": {},
     "output_type": "execute_result"
    },
    {
     "data": {
      "image/png": "[encoded data removed]",
      "text/plain": [
       "<Figure size 432x288 with 1 Axes>"
      ]
     },
     "metadata": {
      "needs_background": "light"
     },
     "output_type": "display_data"
    }
   ],
   "source": [
    "import matplotlib.pyplot as plt\n",
    "plt.plot(time[:, -1], BF1)\n",
    "plt.xlabel(\"time\")\n",
    "plt.ylabel(\"BF1\")"
   ]
  },
  {
   "cell_type": "markdown",
   "metadata": {},
   "source": [
    "# Magnetic Field"
   ]
  },
  {
   "cell_type": "code",
   "execution_count": 12,
   "metadata": {},
   "outputs": [
    {
     "name": "stdout",
     "output_type": "stream",
     "text": [
      "time magnetic\n",
      "[[    2022        1       78]\n",
      " [    2022        1      170]\n",
      " [    2022        1      262]\n",
      " ...\n",
      " [    2022        1 86399754]\n",
      " [    2022        1 86399846]\n",
      " [    2022        1 86399938]]\n"
     ]
    }
   ],
   "source": [
    "\n",
    "cdf_pycdf = cdflib.CDF(\"dscovr_h0_mag_20220101_v01.cdf\")\n",
    "B1F1 = cdf_pycdf.varget(\"B1F1\", startrec = 0, endrec = 86400 - 1)\n",
    "time_mag = cdf_pycdf.varget(\"Time1_PB5\", startrec = 0, endrec = 86400 - 1)\n",
    "print(\"time magnetic\")\n",
    "\n",
    "print(time)"
   ]
  },
  {
   "cell_type": "code",
   "execution_count": 19,
   "metadata": {},
   "outputs": [
    {
     "data": {
      "text/plain": [
       "9.260811"
      ]
     },
     "execution_count": 19,
     "metadata": {},
     "output_type": "execute_result"
    }
   ],
   "source": [
    "B1F1[25000]"
   ]
  },
  {
   "cell_type": "code",
   "execution_count": 20,
   "metadata": {},
   "outputs": [
    {
     "data": {
      "text/plain": [
       "Text(0, 0.5, 'B1F1')"
      ]
     },
     "execution_count": 20,
     "metadata": {},
     "output_type": "execute_result"
    },
    {
     "data": {
      "image/png": "[encoded data removed]",
      "text/plain": [
       "<Figure size 432x288 with 1 Axes>"
      ]
     },
     "metadata": {
      "needs_background": "light"
     },
     "output_type": "display_data"
    }
   ],
   "source": [
    "import matplotlib.pyplot as plt\n",
    "plt.plot(time_mag[:, -1], B1F1)\n",
    "plt.xlabel(\"time\")\n",
    "plt.ylabel(\"B1F1\")"
   ]
  },
  {
   "cell_type": "code",
   "execution_count": null,
   "metadata": {},
   "outputs": [],
   "source": []
  }
 ],
 "metadata": {
  "kernelspec": {
   "display_name": "Python 3 (ipykernel)",
   "language": "python",
   "name": "python3"
  },
  "language_info": {
   "codemirror_mode": {
    "name": "ipython",
    "version": 3
   },
   "file_extension": ".py",
   "mimetype": "text/x-python",
   "name": "python",
   "nbconvert_exporter": "python",
   "pygments_lexer": "ipython3",
   "version": "3.7.11"
  }
 },
 "nbformat": 4,
 "nbformat_minor": 2
}
